{
 "cells": [
  {
   "cell_type": "code",
   "execution_count": 1,
   "metadata": {},
   "outputs": [
    {
     "name": "stdout",
     "output_type": "stream",
     "text": [
      "Welcome to Fitness Management System\n",
      "\n",
      "\n",
      "Welcome to sign up for your account\n",
      "Enter username\n"
     ]
    },
    {
     "ename": "KeyboardInterrupt",
     "evalue": "Interrupted by user",
     "output_type": "error",
     "traceback": [
      "\u001b[1;31m---------------------------------------------------------------------------\u001b[0m",
      "\u001b[1;31mKeyboardInterrupt\u001b[0m                         Traceback (most recent call last)",
      "Cell \u001b[1;32mIn[1], line 64\u001b[0m\n\u001b[0;32m     62\u001b[0m         inf\u001b[38;5;241m.\u001b[39mend()\n\u001b[0;32m     63\u001b[0m         \u001b[38;5;66;03m# try:\u001b[39;00m\n\u001b[1;32m---> 64\u001b[0m \u001b[43mmain\u001b[49m\u001b[43m(\u001b[49m\u001b[43m)\u001b[49m\n\u001b[0;32m     65\u001b[0m         \u001b[38;5;66;03m# break\u001b[39;00m\n\u001b[0;32m     66\u001b[0m     \u001b[38;5;66;03m# except Exception as e:\u001b[39;00m\n\u001b[0;32m     67\u001b[0m         \u001b[38;5;66;03m# print('There is an exception :- ',e)\u001b[39;00m\n",
      "Cell \u001b[1;32mIn[1], line 11\u001b[0m, in \u001b[0;36mmain\u001b[1;34m()\u001b[0m\n\u001b[0;32m      9\u001b[0m reg1\u001b[38;5;241m=\u001b[39mregistration()\n\u001b[0;32m     10\u001b[0m \u001b[38;5;28mprint\u001b[39m()\n\u001b[1;32m---> 11\u001b[0m u1,p1\u001b[38;5;241m=\u001b[39m\u001b[43mreg1\u001b[49m\u001b[38;5;241;43m.\u001b[39;49m\u001b[43msign_up\u001b[49m\u001b[43m(\u001b[49m\u001b[43m)\u001b[49m\n\u001b[0;32m     12\u001b[0m username,password\u001b[38;5;241m=\u001b[39mreg1\u001b[38;5;241m.\u001b[39mlog_in(u1,p1)\n\u001b[0;32m     13\u001b[0m \u001b[38;5;28mprint\u001b[39m(\u001b[38;5;124m'\u001b[39m\u001b[38;5;124mUsername = \u001b[39m\u001b[38;5;124m'\u001b[39m,username)\n",
      "File \u001b[1;32mc:\\Users\\Urval\\Desktop\\project\\SEM-3_python_solo\\registration.py:6\u001b[0m, in \u001b[0;36mregistration.sign_up\u001b[1;34m(self)\u001b[0m\n\u001b[0;32m      4\u001b[0m \u001b[38;5;28mprint\u001b[39m(\u001b[38;5;124m'\u001b[39m\u001b[38;5;124mEnter username\u001b[39m\u001b[38;5;124m'\u001b[39m)\n\u001b[0;32m      5\u001b[0m \u001b[38;5;28;01mwhile\u001b[39;00m \u001b[38;5;28;01mTrue\u001b[39;00m:\n\u001b[1;32m----> 6\u001b[0m     user\u001b[38;5;241m=\u001b[39m\u001b[38;5;28;43minput\u001b[39;49m\u001b[43m(\u001b[49m\u001b[38;5;124;43m'\u001b[39;49m\u001b[38;5;124;43mEnter your username : - \u001b[39;49m\u001b[38;5;124;43m'\u001b[39;49m\u001b[43m)\u001b[49m\n\u001b[0;32m      7\u001b[0m     \u001b[38;5;28;01mif\u001b[39;00m \u001b[38;5;28mlen\u001b[39m(user)\u001b[38;5;241m<\u001b[39m\u001b[38;5;241m8\u001b[39m:\n\u001b[0;32m      8\u001b[0m         \u001b[38;5;28mprint\u001b[39m(\u001b[38;5;124m'\u001b[39m\u001b[38;5;124mUsername must have a length of 8 char\u001b[39m\u001b[38;5;124m'\u001b[39m)\n",
      "File \u001b[1;32mc:\\Users\\Urval\\AppData\\Local\\Programs\\Python\\Python312\\Lib\\site-packages\\ipykernel\\kernelbase.py:1251\u001b[0m, in \u001b[0;36mKernel.raw_input\u001b[1;34m(self, prompt)\u001b[0m\n\u001b[0;32m   1249\u001b[0m     msg \u001b[38;5;241m=\u001b[39m \u001b[38;5;124m\"\u001b[39m\u001b[38;5;124mraw_input was called, but this frontend does not support input requests.\u001b[39m\u001b[38;5;124m\"\u001b[39m\n\u001b[0;32m   1250\u001b[0m     \u001b[38;5;28;01mraise\u001b[39;00m StdinNotImplementedError(msg)\n\u001b[1;32m-> 1251\u001b[0m \u001b[38;5;28;01mreturn\u001b[39;00m \u001b[38;5;28;43mself\u001b[39;49m\u001b[38;5;241;43m.\u001b[39;49m\u001b[43m_input_request\u001b[49m\u001b[43m(\u001b[49m\n\u001b[0;32m   1252\u001b[0m \u001b[43m    \u001b[49m\u001b[38;5;28;43mstr\u001b[39;49m\u001b[43m(\u001b[49m\u001b[43mprompt\u001b[49m\u001b[43m)\u001b[49m\u001b[43m,\u001b[49m\n\u001b[0;32m   1253\u001b[0m \u001b[43m    \u001b[49m\u001b[38;5;28;43mself\u001b[39;49m\u001b[38;5;241;43m.\u001b[39;49m\u001b[43m_parent_ident\u001b[49m\u001b[43m[\u001b[49m\u001b[38;5;124;43m\"\u001b[39;49m\u001b[38;5;124;43mshell\u001b[39;49m\u001b[38;5;124;43m\"\u001b[39;49m\u001b[43m]\u001b[49m\u001b[43m,\u001b[49m\n\u001b[0;32m   1254\u001b[0m \u001b[43m    \u001b[49m\u001b[38;5;28;43mself\u001b[39;49m\u001b[38;5;241;43m.\u001b[39;49m\u001b[43mget_parent\u001b[49m\u001b[43m(\u001b[49m\u001b[38;5;124;43m\"\u001b[39;49m\u001b[38;5;124;43mshell\u001b[39;49m\u001b[38;5;124;43m\"\u001b[39;49m\u001b[43m)\u001b[49m\u001b[43m,\u001b[49m\n\u001b[0;32m   1255\u001b[0m \u001b[43m    \u001b[49m\u001b[43mpassword\u001b[49m\u001b[38;5;241;43m=\u001b[39;49m\u001b[38;5;28;43;01mFalse\u001b[39;49;00m\u001b[43m,\u001b[49m\n\u001b[0;32m   1256\u001b[0m \u001b[43m\u001b[49m\u001b[43m)\u001b[49m\n",
      "File \u001b[1;32mc:\\Users\\Urval\\AppData\\Local\\Programs\\Python\\Python312\\Lib\\site-packages\\ipykernel\\kernelbase.py:1295\u001b[0m, in \u001b[0;36mKernel._input_request\u001b[1;34m(self, prompt, ident, parent, password)\u001b[0m\n\u001b[0;32m   1292\u001b[0m \u001b[38;5;28;01mexcept\u001b[39;00m \u001b[38;5;167;01mKeyboardInterrupt\u001b[39;00m:\n\u001b[0;32m   1293\u001b[0m     \u001b[38;5;66;03m# re-raise KeyboardInterrupt, to truncate traceback\u001b[39;00m\n\u001b[0;32m   1294\u001b[0m     msg \u001b[38;5;241m=\u001b[39m \u001b[38;5;124m\"\u001b[39m\u001b[38;5;124mInterrupted by user\u001b[39m\u001b[38;5;124m\"\u001b[39m\n\u001b[1;32m-> 1295\u001b[0m     \u001b[38;5;28;01mraise\u001b[39;00m \u001b[38;5;167;01mKeyboardInterrupt\u001b[39;00m(msg) \u001b[38;5;28;01mfrom\u001b[39;00m \u001b[38;5;28;01mNone\u001b[39;00m\n\u001b[0;32m   1296\u001b[0m \u001b[38;5;28;01mexcept\u001b[39;00m \u001b[38;5;167;01mException\u001b[39;00m:\n\u001b[0;32m   1297\u001b[0m     \u001b[38;5;28mself\u001b[39m\u001b[38;5;241m.\u001b[39mlog\u001b[38;5;241m.\u001b[39mwarning(\u001b[38;5;124m\"\u001b[39m\u001b[38;5;124mInvalid Message:\u001b[39m\u001b[38;5;124m\"\u001b[39m, exc_info\u001b[38;5;241m=\u001b[39m\u001b[38;5;28;01mTrue\u001b[39;00m)\n",
      "\u001b[1;31mKeyboardInterrupt\u001b[0m: Interrupted by user"
     ]
    }
   ],
   "source": [
    "from registration import *\n",
    "from details import *\n",
    "from system import *\n",
    "import datetime\n",
    "import os\n",
    "def main():\n",
    "    print('Welcome to Fitness Management System')\n",
    "    print()\n",
    "    reg1=registration()\n",
    "    print()\n",
    "    u1,p1=reg1.sign_up()\n",
    "    username,password=reg1.log_in(u1,p1)\n",
    "    print('Username = ',username)\n",
    "    print('Password = ',password)\n",
    "    fname=os.getcwd()+'/'+username+'.txt'\n",
    "    with open(fname, 'w') as f:\n",
    "        f.write('User-details\\n')\n",
    "        f.write(f'Username = {username}\\n')\n",
    "        cdate=datetime.datetime.now()\n",
    "        date=cdate.date()\n",
    "        time=cdate.time()\n",
    "        f.write(f'File created on {date} at {time}\\n')\n",
    "        f.write('*********************************************\\n')\n",
    "        det = details()\n",
    "        full_name, mobile, email, gender, age, weight, height = det.get()\n",
    "        f.write(f'Full-name :- {full_name}\\n')\n",
    "        f.write(f'Mobile number :- {mobile}\\n')\n",
    "        f.write(f'Email :- {email}\\n')\n",
    "        f.write(f'Gender :- {gender}\\n')\n",
    "        f.write(f'Age :- {age}\\n')\n",
    "        f.write(f'Weight :- {weight}\\n')\n",
    "        f.write(f'Height :- {height}\\n')\n",
    "    print('Do you want to know about the basic terms and services provided by us?')\n",
    "    choice=input('Do you want to know about the basic terms and services provided by us?(Press Yes to know and any other key to leave)')\n",
    "    inf=information(full_name,mobile)\n",
    "    if choice=='Yes' or choice=='yes':\n",
    "        inf.info()\n",
    "    print('Do you want to know what are the services provided in the premium version of this system?')\n",
    "    pre=input('Do you want to know what is the premium version of this app?(Press Yes to know and any other key to leave)')\n",
    "    if pre=='Yes' or choice=='yes':\n",
    "        inf.premium()\n",
    "        ask=input('Enter premium to go further else press any other key')\n",
    "        if ask=='Premium' or ask=='premium':\n",
    "            inf.premium()\n",
    "            print('Do you want to buy our subscription?')\n",
    "            ans=input('Do you want to buy our subscription?(yes or press any other key to leave this system)')\n",
    "            if ans=='yes':\n",
    "                print('There is an lucky draw offer')\n",
    "                x=inf.lucky()\n",
    "                inf.bank(username,password,cdate,x,fname)\n",
    "                bmi,bmi_range,bmr,protein=inf.calculate_details(age,weight,height,gender,fname)  \n",
    "                inf.diet(bmi,bmi_range,bmr,protein,fname)\n",
    "                inf.workout(fname) \n",
    "                inf.calorie()\n",
    "                inf.end()\n",
    "            else:\n",
    "                inf.end()\n",
    "        else:\n",
    "            inf.end()\n",
    "    else:\n",
    "        print('You cannot go further without the premium version')\n",
    "        inf.end()\n",
    "try:\n",
    "    main()\n",
    "except Exception as e:\n",
    "    print('There is an exception :- ',e)"
   ]
  }
 ],
 "metadata": {
  "kernelspec": {
   "display_name": "Python 3",
   "language": "python",
   "name": "python3"
  },
  "language_info": {
   "codemirror_mode": {
    "name": "ipython",
    "version": 3
   },
   "file_extension": ".py",
   "mimetype": "text/x-python",
   "name": "python",
   "nbconvert_exporter": "python",
   "pygments_lexer": "ipython3",
   "version": "undefined.undefined.undefined"
  }
 },
 "nbformat": 4,
 "nbformat_minor": 2
}
